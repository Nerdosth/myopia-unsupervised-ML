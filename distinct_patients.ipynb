{
 "cells": [
  {
   "cell_type": "code",
   "execution_count": 196,
   "metadata": {},
   "outputs": [],
   "source": [
    "# Imports\n",
    "import pandas as pd\n",
    "from pathlib import Path\n",
    "from sklearn.preprocessing import StandardScaler\n",
    "from sklearn.decomposition import PCA\n",
    "from sklearn.manifold import TSNE\n",
    "from sklearn.cluster import KMeans\n",
    "from sklearn.metrics import silhouette_score\n",
    "from sklearn.pipeline import Pipeline\n",
    "import matplotlib.pyplot as plt\n",
    "import plotly.express as px\n",
    "import numpy as np\n",
    "import hvplot.pandas\n",
    "import warnings"
   ]
  },
  {
   "cell_type": "markdown",
   "metadata": {},
   "source": [
    "## Part 1: Prepare the Data"
   ]
  },
  {
   "cell_type": "code",
   "execution_count": 197,
   "metadata": {},
   "outputs": [
    {
     "data": {
      "text/html": [
       "<div>\n",
       "<style scoped>\n",
       "    .dataframe tbody tr th:only-of-type {\n",
       "        vertical-align: middle;\n",
       "    }\n",
       "\n",
       "    .dataframe tbody tr th {\n",
       "        vertical-align: top;\n",
       "    }\n",
       "\n",
       "    .dataframe thead th {\n",
       "        text-align: right;\n",
       "    }\n",
       "</style>\n",
       "<table border=\"1\" class=\"dataframe\">\n",
       "  <thead>\n",
       "    <tr style=\"text-align: right;\">\n",
       "      <th></th>\n",
       "      <th>AGE</th>\n",
       "      <th>SPHEQ</th>\n",
       "      <th>AL</th>\n",
       "      <th>ACD</th>\n",
       "      <th>LT</th>\n",
       "      <th>VCD</th>\n",
       "      <th>SPORTHR</th>\n",
       "      <th>READHR</th>\n",
       "      <th>COMPHR</th>\n",
       "      <th>STUDYHR</th>\n",
       "      <th>TVHR</th>\n",
       "      <th>DIOPTERHR</th>\n",
       "      <th>MOMMY</th>\n",
       "      <th>DADMY</th>\n",
       "      <th>MYOPIC</th>\n",
       "    </tr>\n",
       "  </thead>\n",
       "  <tbody>\n",
       "    <tr>\n",
       "      <th>0</th>\n",
       "      <td>6</td>\n",
       "      <td>-0.052</td>\n",
       "      <td>21.889999</td>\n",
       "      <td>3.690</td>\n",
       "      <td>3.498</td>\n",
       "      <td>14.70</td>\n",
       "      <td>45</td>\n",
       "      <td>8</td>\n",
       "      <td>0</td>\n",
       "      <td>0</td>\n",
       "      <td>10</td>\n",
       "      <td>34</td>\n",
       "      <td>1</td>\n",
       "      <td>1</td>\n",
       "      <td>1</td>\n",
       "    </tr>\n",
       "    <tr>\n",
       "      <th>1</th>\n",
       "      <td>6</td>\n",
       "      <td>0.608</td>\n",
       "      <td>22.379999</td>\n",
       "      <td>3.702</td>\n",
       "      <td>3.392</td>\n",
       "      <td>15.29</td>\n",
       "      <td>4</td>\n",
       "      <td>0</td>\n",
       "      <td>1</td>\n",
       "      <td>1</td>\n",
       "      <td>7</td>\n",
       "      <td>12</td>\n",
       "      <td>1</td>\n",
       "      <td>1</td>\n",
       "      <td>0</td>\n",
       "    </tr>\n",
       "    <tr>\n",
       "      <th>2</th>\n",
       "      <td>6</td>\n",
       "      <td>1.179</td>\n",
       "      <td>22.490000</td>\n",
       "      <td>3.462</td>\n",
       "      <td>3.514</td>\n",
       "      <td>15.52</td>\n",
       "      <td>14</td>\n",
       "      <td>0</td>\n",
       "      <td>2</td>\n",
       "      <td>0</td>\n",
       "      <td>10</td>\n",
       "      <td>14</td>\n",
       "      <td>0</td>\n",
       "      <td>0</td>\n",
       "      <td>0</td>\n",
       "    </tr>\n",
       "    <tr>\n",
       "      <th>3</th>\n",
       "      <td>6</td>\n",
       "      <td>0.525</td>\n",
       "      <td>22.200001</td>\n",
       "      <td>3.862</td>\n",
       "      <td>3.612</td>\n",
       "      <td>14.73</td>\n",
       "      <td>18</td>\n",
       "      <td>11</td>\n",
       "      <td>0</td>\n",
       "      <td>0</td>\n",
       "      <td>4</td>\n",
       "      <td>37</td>\n",
       "      <td>0</td>\n",
       "      <td>1</td>\n",
       "      <td>1</td>\n",
       "    </tr>\n",
       "    <tr>\n",
       "      <th>4</th>\n",
       "      <td>5</td>\n",
       "      <td>0.697</td>\n",
       "      <td>23.290001</td>\n",
       "      <td>3.676</td>\n",
       "      <td>3.454</td>\n",
       "      <td>16.16</td>\n",
       "      <td>14</td>\n",
       "      <td>0</td>\n",
       "      <td>0</td>\n",
       "      <td>0</td>\n",
       "      <td>4</td>\n",
       "      <td>4</td>\n",
       "      <td>1</td>\n",
       "      <td>0</td>\n",
       "      <td>0</td>\n",
       "    </tr>\n",
       "    <tr>\n",
       "      <th>5</th>\n",
       "      <td>6</td>\n",
       "      <td>1.744</td>\n",
       "      <td>22.139999</td>\n",
       "      <td>3.224</td>\n",
       "      <td>3.556</td>\n",
       "      <td>15.36</td>\n",
       "      <td>10</td>\n",
       "      <td>6</td>\n",
       "      <td>2</td>\n",
       "      <td>1</td>\n",
       "      <td>19</td>\n",
       "      <td>44</td>\n",
       "      <td>0</td>\n",
       "      <td>1</td>\n",
       "      <td>0</td>\n",
       "    </tr>\n",
       "    <tr>\n",
       "      <th>6</th>\n",
       "      <td>6</td>\n",
       "      <td>0.683</td>\n",
       "      <td>22.330000</td>\n",
       "      <td>3.186</td>\n",
       "      <td>3.654</td>\n",
       "      <td>15.49</td>\n",
       "      <td>12</td>\n",
       "      <td>7</td>\n",
       "      <td>2</td>\n",
       "      <td>1</td>\n",
       "      <td>8</td>\n",
       "      <td>36</td>\n",
       "      <td>0</td>\n",
       "      <td>1</td>\n",
       "      <td>0</td>\n",
       "    </tr>\n",
       "    <tr>\n",
       "      <th>7</th>\n",
       "      <td>6</td>\n",
       "      <td>1.272</td>\n",
       "      <td>22.389999</td>\n",
       "      <td>3.732</td>\n",
       "      <td>3.584</td>\n",
       "      <td>15.08</td>\n",
       "      <td>12</td>\n",
       "      <td>0</td>\n",
       "      <td>0</td>\n",
       "      <td>0</td>\n",
       "      <td>8</td>\n",
       "      <td>8</td>\n",
       "      <td>0</td>\n",
       "      <td>0</td>\n",
       "      <td>0</td>\n",
       "    </tr>\n",
       "    <tr>\n",
       "      <th>8</th>\n",
       "      <td>7</td>\n",
       "      <td>1.396</td>\n",
       "      <td>22.620001</td>\n",
       "      <td>3.464</td>\n",
       "      <td>3.408</td>\n",
       "      <td>15.74</td>\n",
       "      <td>4</td>\n",
       "      <td>0</td>\n",
       "      <td>3</td>\n",
       "      <td>1</td>\n",
       "      <td>3</td>\n",
       "      <td>12</td>\n",
       "      <td>0</td>\n",
       "      <td>0</td>\n",
       "      <td>0</td>\n",
       "    </tr>\n",
       "    <tr>\n",
       "      <th>9</th>\n",
       "      <td>6</td>\n",
       "      <td>0.972</td>\n",
       "      <td>22.740000</td>\n",
       "      <td>3.504</td>\n",
       "      <td>3.696</td>\n",
       "      <td>15.54</td>\n",
       "      <td>30</td>\n",
       "      <td>5</td>\n",
       "      <td>1</td>\n",
       "      <td>0</td>\n",
       "      <td>10</td>\n",
       "      <td>27</td>\n",
       "      <td>0</td>\n",
       "      <td>0</td>\n",
       "      <td>0</td>\n",
       "    </tr>\n",
       "  </tbody>\n",
       "</table>\n",
       "</div>"
      ],
      "text/plain": [
       "   AGE  SPHEQ         AL    ACD     LT    VCD  SPORTHR  READHR  COMPHR  \\\n",
       "0    6 -0.052  21.889999  3.690  3.498  14.70       45       8       0   \n",
       "1    6  0.608  22.379999  3.702  3.392  15.29        4       0       1   \n",
       "2    6  1.179  22.490000  3.462  3.514  15.52       14       0       2   \n",
       "3    6  0.525  22.200001  3.862  3.612  14.73       18      11       0   \n",
       "4    5  0.697  23.290001  3.676  3.454  16.16       14       0       0   \n",
       "5    6  1.744  22.139999  3.224  3.556  15.36       10       6       2   \n",
       "6    6  0.683  22.330000  3.186  3.654  15.49       12       7       2   \n",
       "7    6  1.272  22.389999  3.732  3.584  15.08       12       0       0   \n",
       "8    7  1.396  22.620001  3.464  3.408  15.74        4       0       3   \n",
       "9    6  0.972  22.740000  3.504  3.696  15.54       30       5       1   \n",
       "\n",
       "   STUDYHR  TVHR  DIOPTERHR  MOMMY  DADMY  MYOPIC  \n",
       "0        0    10         34      1      1       1  \n",
       "1        1     7         12      1      1       0  \n",
       "2        0    10         14      0      0       0  \n",
       "3        0     4         37      0      1       1  \n",
       "4        0     4          4      1      0       0  \n",
       "5        1    19         44      0      1       0  \n",
       "6        1     8         36      0      1       0  \n",
       "7        0     8          8      0      0       0  \n",
       "8        1     3         12      0      0       0  \n",
       "9        0    10         27      0      0       0  "
      ]
     },
     "execution_count": 197,
     "metadata": {},
     "output_type": "execute_result"
    }
   ],
   "source": [
    "warnings.filterwarnings(\"ignore\", category=FutureWarning)\n",
    "file_path = Path(\"Resources/myopia.csv\")\n",
    "df = pd.read_csv(file_path)\n",
    "df.head(10)"
   ]
  },
  {
   "cell_type": "code",
   "execution_count": 198,
   "metadata": {},
   "outputs": [
    {
     "data": {
      "text/html": [
       "<div>\n",
       "<style scoped>\n",
       "    .dataframe tbody tr th:only-of-type {\n",
       "        vertical-align: middle;\n",
       "    }\n",
       "\n",
       "    .dataframe tbody tr th {\n",
       "        vertical-align: top;\n",
       "    }\n",
       "\n",
       "    .dataframe thead th {\n",
       "        text-align: right;\n",
       "    }\n",
       "</style>\n",
       "<table border=\"1\" class=\"dataframe\">\n",
       "  <thead>\n",
       "    <tr style=\"text-align: right;\">\n",
       "      <th></th>\n",
       "      <th>AGE</th>\n",
       "      <th>SPHEQ</th>\n",
       "      <th>AL</th>\n",
       "      <th>ACD</th>\n",
       "      <th>LT</th>\n",
       "      <th>VCD</th>\n",
       "      <th>SPORTHR</th>\n",
       "      <th>READHR</th>\n",
       "      <th>COMPHR</th>\n",
       "      <th>STUDYHR</th>\n",
       "      <th>TVHR</th>\n",
       "      <th>DIOPTERHR</th>\n",
       "      <th>MOMMY</th>\n",
       "      <th>DADMY</th>\n",
       "    </tr>\n",
       "  </thead>\n",
       "  <tbody>\n",
       "    <tr>\n",
       "      <th>0</th>\n",
       "      <td>6</td>\n",
       "      <td>-0.052</td>\n",
       "      <td>21.889999</td>\n",
       "      <td>3.690</td>\n",
       "      <td>3.498</td>\n",
       "      <td>14.70</td>\n",
       "      <td>45</td>\n",
       "      <td>8</td>\n",
       "      <td>0</td>\n",
       "      <td>0</td>\n",
       "      <td>10</td>\n",
       "      <td>34</td>\n",
       "      <td>1</td>\n",
       "      <td>1</td>\n",
       "    </tr>\n",
       "    <tr>\n",
       "      <th>1</th>\n",
       "      <td>6</td>\n",
       "      <td>0.608</td>\n",
       "      <td>22.379999</td>\n",
       "      <td>3.702</td>\n",
       "      <td>3.392</td>\n",
       "      <td>15.29</td>\n",
       "      <td>4</td>\n",
       "      <td>0</td>\n",
       "      <td>1</td>\n",
       "      <td>1</td>\n",
       "      <td>7</td>\n",
       "      <td>12</td>\n",
       "      <td>1</td>\n",
       "      <td>1</td>\n",
       "    </tr>\n",
       "    <tr>\n",
       "      <th>2</th>\n",
       "      <td>6</td>\n",
       "      <td>1.179</td>\n",
       "      <td>22.490000</td>\n",
       "      <td>3.462</td>\n",
       "      <td>3.514</td>\n",
       "      <td>15.52</td>\n",
       "      <td>14</td>\n",
       "      <td>0</td>\n",
       "      <td>2</td>\n",
       "      <td>0</td>\n",
       "      <td>10</td>\n",
       "      <td>14</td>\n",
       "      <td>0</td>\n",
       "      <td>0</td>\n",
       "    </tr>\n",
       "    <tr>\n",
       "      <th>3</th>\n",
       "      <td>6</td>\n",
       "      <td>0.525</td>\n",
       "      <td>22.200001</td>\n",
       "      <td>3.862</td>\n",
       "      <td>3.612</td>\n",
       "      <td>14.73</td>\n",
       "      <td>18</td>\n",
       "      <td>11</td>\n",
       "      <td>0</td>\n",
       "      <td>0</td>\n",
       "      <td>4</td>\n",
       "      <td>37</td>\n",
       "      <td>0</td>\n",
       "      <td>1</td>\n",
       "    </tr>\n",
       "    <tr>\n",
       "      <th>4</th>\n",
       "      <td>5</td>\n",
       "      <td>0.697</td>\n",
       "      <td>23.290001</td>\n",
       "      <td>3.676</td>\n",
       "      <td>3.454</td>\n",
       "      <td>16.16</td>\n",
       "      <td>14</td>\n",
       "      <td>0</td>\n",
       "      <td>0</td>\n",
       "      <td>0</td>\n",
       "      <td>4</td>\n",
       "      <td>4</td>\n",
       "      <td>1</td>\n",
       "      <td>0</td>\n",
       "    </tr>\n",
       "  </tbody>\n",
       "</table>\n",
       "</div>"
      ],
      "text/plain": [
       "   AGE  SPHEQ         AL    ACD     LT    VCD  SPORTHR  READHR  COMPHR  \\\n",
       "0    6 -0.052  21.889999  3.690  3.498  14.70       45       8       0   \n",
       "1    6  0.608  22.379999  3.702  3.392  15.29        4       0       1   \n",
       "2    6  1.179  22.490000  3.462  3.514  15.52       14       0       2   \n",
       "3    6  0.525  22.200001  3.862  3.612  14.73       18      11       0   \n",
       "4    5  0.697  23.290001  3.676  3.454  16.16       14       0       0   \n",
       "\n",
       "   STUDYHR  TVHR  DIOPTERHR  MOMMY  DADMY  \n",
       "0        0    10         34      1      1  \n",
       "1        1     7         12      1      1  \n",
       "2        0    10         14      0      0  \n",
       "3        0     4         37      0      1  \n",
       "4        0     4          4      1      0  "
      ]
     },
     "execution_count": 198,
     "metadata": {},
     "output_type": "execute_result"
    }
   ],
   "source": [
    "#Remove the \"MYOPIC\" column from the dataset.Note: The target column is needed for supervised machine learning, but it will make an unsupervised model biased. After all, the target column is effectively providing clusters already!\n",
    "df = df.drop(columns=[\"MYOPIC\"])\n",
    "df .head()"
   ]
  },
  {
   "cell_type": "code",
   "execution_count": 199,
   "metadata": {},
   "outputs": [
    {
     "name": "stdout",
     "output_type": "stream",
     "text": [
      "Number of rows and features in scaled dataframe: (618, 14)\n"
     ]
    }
   ],
   "source": [
    "#Standardize your dataset so that columns that contain larger values do not influence the outcome more than columns with smaller values.\n",
    "scaler = StandardScaler()\n",
    "X = scaler.fit_transform(df)\n",
    "print(\"Number of rows and features in scaled dataframe:\", X.shape)"
   ]
  },
  {
   "cell_type": "markdown",
   "metadata": {},
   "source": [
    "## Part 2: Apply Dimensionality Reduction"
   ]
  },
  {
   "cell_type": "code",
   "execution_count": 200,
   "metadata": {},
   "outputs": [
    {
     "name": "stdout",
     "output_type": "stream",
     "text": [
      "Number of rows and features in transformed data: (618, 10)\n",
      "Explained variance ratio: 0.9187361702915187\n"
     ]
    }
   ],
   "source": [
    "n_components = n_components=.90\n",
    "pca = PCA(n_components=n_components)\n",
    "X_pca = pca.fit_transform(X)\n",
    "print(\"Number of rows and features in transformed data:\", X_pca.shape)\n",
    "print(\"Explained variance ratio:\", pca.explained_variance_ratio_.sum())"
   ]
  },
  {
   "cell_type": "code",
   "execution_count": 201,
   "metadata": {},
   "outputs": [],
   "source": [
    "#Creating a dataframe for 2D and 3D plotting of cluster groups. \n",
    "pca_df = pd.DataFrame(data=X_pca)"
   ]
  },
  {
   "cell_type": "code",
   "execution_count": 211,
   "metadata": {},
   "outputs": [
    {
     "name": "stdout",
     "output_type": "stream",
     "text": [
      "Number of rows and features in tsne data: (618, 2)\n"
     ]
    }
   ],
   "source": [
    "#After testing multiple learning rates and perplexity peremeters, I decided to go with 900 and 5. \n",
    "tsne = TSNE(learning_rate=900, perplexity=5)\n",
    "tsne_features = tsne.fit_transform(X_pca)\n",
    "print(\"Number of rows and features in tsne data:\",tsne_features.shape)\n"
   ]
  },
  {
   "cell_type": "code",
   "execution_count": 212,
   "metadata": {},
   "outputs": [],
   "source": [
    "#creating X and Y columns needed for plotting 2D and 3D cluster charts. \n",
    "\n",
    "pca_df[\"x\"] = tsne_features[:,0]\n",
    "pca_df[\"y\"] = tsne_features[:,1]\n"
   ]
  },
  {
   "cell_type": "code",
   "execution_count": 213,
   "metadata": {},
   "outputs": [
    {
     "data": {
      "text/plain": [
       "<matplotlib.collections.PathCollection at 0x2a263761448>"
      ]
     },
     "execution_count": 213,
     "metadata": {},
     "output_type": "execute_result"
    },
    {
     "data": {
      "image/png": "[encoded data removed]",
      "text/plain": [
       "<Figure size 640x480 with 1 Axes>"
      ]
     },
     "metadata": {},
     "output_type": "display_data"
    }
   ],
   "source": [
    "plt.scatter(tsne_features[:,0],tsne_features[:,1])"
   ]
  },
  {
   "cell_type": "markdown",
   "metadata": {},
   "source": [
    "## Part 3: Perform a Cluster Analysis with K-means"
   ]
  },
  {
   "cell_type": "code",
   "execution_count": 214,
   "metadata": {},
   "outputs": [],
   "source": [
    "inertia = []\n",
    "k = list(range(1, 11))\n",
    "\n",
    "for i in k:\n",
    "    km = KMeans(n_clusters=i, random_state=42)\n",
    "    km.fit(pca_df)\n",
    "    inertia.append(km.inertia_)\n",
    "\n",
    "elbow_data = {\"k\": k, \"inertia\": inertia}\n",
    "df_elbow = pd.DataFrame(elbow_data)"
   ]
  },
  {
   "cell_type": "code",
   "execution_count": 215,
   "metadata": {},
   "outputs": [
    {
     "data": {
      "image/png": "[encoded data removed]",
      "text/plain": [
       "<Figure size 640x480 with 1 Axes>"
      ]
     },
     "metadata": {},
     "output_type": "display_data"
    }
   ],
   "source": [
    "# Plot the elbow curve to find the best candidate(s) for k\n",
    "plt.plot(df_elbow['k'], df_elbow['inertia'])\n",
    "plt.xticks(range(1,11))\n",
    "plt.xlabel('Number of clusters')\n",
    "plt.ylabel('Inertia')\n",
    "plt.title('Elbow curve for patient data')\n",
    "plt.show()"
   ]
  },
  {
   "cell_type": "code",
   "execution_count": 216,
   "metadata": {},
   "outputs": [
    {
     "name": "stdout",
     "output_type": "stream",
     "text": [
      "Cluster size: 2, Silhouette score: 0.425\n",
      "Cluster size: 3, Silhouette score: 0.442\n",
      "Cluster size: 4, Silhouette score: 0.492\n",
      "Cluster size: 5, Silhouette score: 0.517\n",
      "Cluster size: 6, Silhouette score: 0.511\n",
      "Cluster size: 7, Silhouette score: 0.474\n",
      "Cluster size: 8, Silhouette score: 0.436\n",
      "Cluster size: 9, Silhouette score: 0.434\n",
      "Best silhouette score: 0.517 with 5 clusters\n"
     ]
    }
   ],
   "source": [
    "#creating a loop to test multiple clusters to confirm the best possible cluster group. \n",
    "\n",
    "\n",
    "max_score = -1\n",
    "max_cluster = -1\n",
    "# iterate over cluster sizes and calculate silhouette scores to determine the clusters with the best score. \n",
    "for n_clusters in range(2, 10):\n",
    "    # fit the KMeans model\n",
    "    kmeans = KMeans(n_clusters=n_clusters, random_state=0)\n",
    "    kmeans.fit(pca_df)\n",
    "    \n",
    "    # predict cluster labels\n",
    "    predictions = kmeans.predict(pca_df)\n",
    "    \n",
    "    # calculate silhouette score\n",
    "    silhouette_avg = silhouette_score(pca_df, predictions)\n",
    "    \n",
    "    print(f\"Cluster size: {n_clusters}, Silhouette score: {silhouette_avg:.3f}\")\n",
    "\n",
    "    if silhouette_avg > max_score:\n",
    "        max_score = silhouette_avg\n",
    "        max_cluster = n_clusters\n",
    "\n",
    "print(f\"Best silhouette score: {max_score:.3f} with {max_cluster} clusters\")\n"
   ]
  },
  {
   "cell_type": "code",
   "execution_count": 217,
   "metadata": {},
   "outputs": [],
   "source": [
    "def get_clusters(k, data):\n",
    "    # Initialize the K-Means model\n",
    "    model = KMeans(n_clusters=k, random_state=0)\n",
    "\n",
    "    # Train the model\n",
    "    model.fit(data)\n",
    "\n",
    "    # Predict clusters\n",
    "    predictions = model.predict(data)\n",
    "    \n",
    "    # Calculate the Silhouette score\n",
    "    silhouette_avg = silhouette_score(data, predictions)\n",
    "\n",
    "    # Create return DataFrame with predicted clusters\n",
    "    data[\"class\"] = model.labels_\n",
    "\n",
    "    return data\n",
    "#setting up this cluster to auto adjust based on the max silhouette score. \n",
    "clusters = get_clusters(max_cluster, pca_df)"
   ]
  },
  {
   "cell_type": "code",
   "execution_count": 218,
   "metadata": {},
   "outputs": [
    {
     "data": {},
     "metadata": {},
     "output_type": "display_data"
    },
    {
     "data": {
      "application/vnd.holoviews_exec.v0+json": "",
      "text/html": [
       "<div id='2355'>\n",
       "  <div class=\"bk-root\" id=\"a6957c5a-33f5-47de-aa8e-2da18d0844b8\" data-root-id=\"2355\"></div>\n",
       "</div>\n",
       "<script type=\"application/javascript\">(function(root) {\n",
       "  function embed_document(root) {\n",
       "    var docs_json = {\"9e93a028-7221-4078-b7a5-f3facad0ab3a\":{\"defs\":[{\"extends\":null,\"module\":null,\"name\":\"ReactiveHTML1\",\"overrides\":[],\"properties\":[]},{\"extends\":null,\"module\":null,\"name\":\"FlexBox1\",\"overrides\":[],\"properties\":[{\"default\":\"flex-start\",\"kind\":null,\"name\":\"align_content\"},{\"default\":\"flex-start\",\"kind\":null,\"name\":\"align_items\"},{\"default\":\"row\",\"kind\":null,\"name\":\"flex_direction\"},{\"default\":\"wrap\",\"kind\":null,\"name\":\"flex_wrap\"},{\"default\":\"flex-start\",\"kind\":null,\"name\":\"justify_content\"}]},{\"extends\":null,\"module\":null,\"name\":\"GridStack1\",\"overrides\":[],\"properties\":[{\"default\":\"warn\",\"kind\":null,\"name\":\"mode\"},{\"default\":null,\"kind\":null,\"name\":\"ncols\"},{\"default\":null,\"kind\":null,\"name\":\"nrows\"},{\"default\":true,\"kind\":null,\"name\":\"allow_resize\"},{\"default\":true,\"kind\":null,\"name\":\"allow_drag\"},{\"default\":[],\"kind\":null,\"name\":\"state\"}]},{\"extends\":null,\"module\":null,\"name\":\"click1\",\"overrides\":[],\"properties\":[{\"default\":\"\",\"kind\":null,\"name\":\"terminal_output\"},{\"default\":\"\",\"kind\":null,\"name\":\"debug_name\"},{\"default\":0,\"kind\":null,\"name\":\"clears\"}]},{\"extends\":null,\"module\":null,\"name\":\"NotificationAreaBase1\",\"overrides\":[],\"properties\":[{\"default\":\"bottom-right\",\"kind\":null,\"name\":\"position\"},{\"default\":0,\"kind\":null,\"name\":\"_clear\"}]},{\"extends\":null,\"module\":null,\"name\":\"NotificationArea1\",\"overrides\":[],\"properties\":[{\"default\":[],\"kind\":null,\"name\":\"notifications\"},{\"default\":\"bottom-right\",\"kind\":null,\"name\":\"position\"},{\"default\":0,\"kind\":null,\"name\":\"_clear\"},{\"default\":[{\"background\":\"#ffc107\",\"icon\":{\"className\":\"fas fa-exclamation-triangle\",\"color\":\"white\",\"tagName\":\"i\"},\"type\":\"warning\"},{\"background\":\"#007bff\",\"icon\":{\"className\":\"fas fa-info-circle\",\"color\":\"white\",\"tagName\":\"i\"},\"type\":\"info\"}],\"kind\":null,\"name\":\"types\"}]},{\"extends\":null,\"module\":null,\"name\":\"Notification\",\"overrides\":[],\"properties\":[{\"default\":null,\"kind\":null,\"name\":\"background\"},{\"default\":3000,\"kind\":null,\"name\":\"duration\"},{\"default\":null,\"kind\":null,\"name\":\"icon\"},{\"default\":\"\",\"kind\":null,\"name\":\"message\"},{\"default\":null,\"kind\":null,\"name\":\"notification_type\"},{\"default\":false,\"kind\":null,\"name\":\"_destroyed\"}]},{\"extends\":null,\"module\":null,\"name\":\"TemplateActions1\",\"overrides\":[],\"properties\":[{\"default\":0,\"kind\":null,\"name\":\"open_modal\"},{\"default\":0,\"kind\":null,\"name\":\"close_modal\"}]},{\"extends\":null,\"module\":null,\"name\":\"MaterialTemplateActions1\",\"overrides\":[],\"properties\":[{\"default\":0,\"kind\":null,\"name\":\"open_modal\"},{\"default\":0,\"kind\":null,\"name\":\"close_modal\"}]}],\"roots\":{\"references\":[{\"attributes\":{\"active_drag\":{\"id\":\"2381\"},\"active_scroll\":{\"id\":\"2382\"},\"tools\":[{\"id\":\"2358\"},{\"id\":\"2380\"},{\"id\":\"2381\"},{\"id\":\"2382\"},{\"id\":\"2383\"},{\"id\":\"2384\"}]},\"id\":\"2386\",\"type\":\"Toolbar\"},{\"attributes\":{\"fill_color\":{\"value\":\"#8b8b8b\"},\"hatch_color\":{\"value\":\"#8b8b8b\"},\"line_color\":{\"value\":\"#8b8b8b\"},\"size\":{\"value\":5.477225575051661},\"x\":{\"field\":\"x\"},\"y\":{\"field\":\"y\"}},\"id\":\"2495\",\"type\":\"Scatter\"},{\"attributes\":{\"data\":{\"class\":{\"__ndarray__\":\"AwAAAAMAAAADAAAAAwAAAAMAAAADAAAAAwAAAAMAAAADAAAAAwAAAAMAAAADAAAAAwAAAAMAAAADAAAAAwAAAAMAAAADAAAAAwAAAAMAAAADAAAAAwAAAAMAAAADAAAAAwAAAAMAAAADAAAAAwAAAAMAAAADAAAAAwAAAAMAAAADAAAAAwAAAAMAAAADAAAAAwAAAAMAAAADAAAAAwAAAAMAAAADAAAAAwAAAAMAAAADAAAAAwAAAAMAAAADAAAAAwAAAAMAAAADAAAAAwAAAAMAAAADAAAAAwAAAAMAAAADAAAAAwAAAAMAAAADAAAAAwAAAAMAAAADAAAAAwAAAAMAAAADAAAAAwAAAAMAAAADAAAAAwAAAAMAAAADAAAAAwAAAAMAAAADAAAAAwAAAAMAAAADAAAAAwAAAAMAAAADAAAAAwAAAAMAAAADAAAAAwAAAAMAAAADAAAAAwAAAAMAAAADAAAAAwAAAAMAAAADAAAAAwAAAAMAAAADAAAAAwAAAAMAAAADAAAAAwAAAAMAAAADAAAAAwAAAAMAAAADAAAAAwAAAAMAAAADAAAAAwAAAAMAAAADAAAAAwAAAAMAAAADAAAAAwAAAAMAAAADAAAAAwAAAAMAAAADAAAAAwAAAAMAAAADAAAAAwAAAAMAAAADAAAAAwAAAAMAAAADAAAAAwAAAA==\",\"dtype\":\"int32\",\"order\":\"little\",\"shape\":[130]},\"x\":{\"__ndarray__\":\"neJwQvt6Q0JPtQZCJ0WmQfe9i0IPy3NCfsWMQsJUn0GQVx9C16lCQie5dkIahp9CCQyGQvfVRUI+EE5Cmc5/QrRMjUL4fHRCxh9tQtnyVEIXuIZCAgUtQsOsSEIGvl1CA/9BQgLoCUI2N3xC2ml5QkFFiEIsVkRCc1aJQmYeaEKo7xpCtqwhQg7xgEJLZnpCsNOeQvutA0Jlx5BC0IekQeezcUIjzhtCUz1JQkqYSUKwSFJChQ8AQnxcekJbkk1CGSJHQrR6OkIF0zVC7vlsQuMnOkJ6eiFCeMJKQuCBL0LBqGpCRRyJQl6dS0Lpr1dCADLvQaEGRkJSb6VBYbkNQvbAc0LGHJxC50qIQoWmlUKQ5klCdqBsQimzhELSLm1CH8KOQl57i0Kof4tC01JtQuIfAkIeAFpCyB83QlhMK0LnSo5CTQ4HQqWJd0LFmR5CuekuQuquh0IRGClChJdiQtqdjEKCV5JCXM56QrGRJEJpIU1CcF7zQey5k0HMNzpC6mtLQvSsMUKyCJ1Cycz4QZwY/kEnJEFCuTuCQrm6lUInNjZCo5WSQXPClkJJK5ZCNxWUQpUWcEIHyERCJYNBQmVtgkIBd1lCUlv7QbcVl0I2Q0pCYoObQvm4S0J1A5lCEx5DQl4ndkLgg5NCGYI/QthXkEJY2hxCR72XQRL9mEIOCItC5mMgQg==\",\"dtype\":\"float32\",\"order\":\"little\",\"shape\":[130]},\"y\":{\"__ndarray__\":\"ozQWQkH2zMClnaVBGtq8wGBhNcAm9U1BQghaQa67nD8N+F5BjQIpwSn0+8CG/g5BscieP/NF5UHitphBXTQFQdPvwEDbp6xBX6kHQtEUxEGalPRAg8s6QZsM7kHdwDFBY0jaQV/AqkG9H0XB+94dwYtX6kDXai5B7oCjQZ7IWcB6pz1Bh0bov0wjs0EcXLFBqEQXQYqEnkGMYSDAmteKP9E9R0FQOWS/e+A9QW8EzkGOnc3A3QDUQXwEuEG3ujJBvcMZwV5+hkDpRVBBPq6MQQWKzUCDSRJAFuHrQG3CKUFiVzhB/dJKP8P8l0FCUsDAmoaZQEtA3UFw+6TABXaxQWiXIcCCJ1xAVrwYQb0LckHM3KBB11aRQSJsvUHewFjAaLWFQbsSr0A5glRBvY8JQqwex0H3UaxBnoVmQTwFET+uzVi/ZAPHQdZUl0CMc09BF/ccQVZbqUF8zhg/v2UwQbFEC8BrqvpAfVwwwWUOB7+indvAZAR1QXZxxz4Y3yHBO3DEQfTUAUEIXC1BEXSmQKik2EEu7eJAUUG2QSHV30AGPSRAIpakQJ/uikG7TWVBTEqnQbgXE0KDnRdB2WdbwTuU+0AsS7FBj5+DQUeTuUAkm+DAAhw2Qd7YMMGRHpdAWstCwSPd5sDE1dZAJProQelxc0Hq4I3Af6VqQA5mdkHAqi6+0yV7QQ==\",\"dtype\":\"float32\",\"order\":\"little\",\"shape\":[130]}},\"selected\":{\"id\":\"2467\"},\"selection_policy\":{\"id\":\"2487\"}},\"id\":\"2466\",\"type\":\"ColumnDataSource\"},{\"attributes\":{\"bottom_units\":\"screen\",\"coordinates\":null,\"fill_alpha\":0.5,\"fill_color\":\"lightgrey\",\"group\":null,\"left_units\":\"screen\",\"level\":\"overlay\",\"line_alpha\":1.0,\"line_color\":\"black\",\"line_dash\":[4,4],\"line_width\":2,\"right_units\":\"screen\",\"syncable\":false,\"top_units\":\"screen\"},\"id\":\"2385\",\"type\":\"BoxAnnotation\"},{\"attributes\":{\"label\":{\"value\":\"1\"},\"renderers\":[{\"id\":\"2426\"}]},\"id\":\"2440\",\"type\":\"LegendItem\"},{\"attributes\":{\"coordinates\":null,\"data_source\":{\"id\":\"2442\"},\"glyph\":{\"id\":\"2445\"},\"group\":null,\"hover_glyph\":null,\"muted_glyph\":{\"id\":\"2447\"},\"nonselection_glyph\":{\"id\":\"2446\"},\"selection_glyph\":{\"id\":\"2465\"},\"view\":{\"id\":\"2449\"}},\"id\":\"2448\",\"type\":\"GlyphRenderer\"},{\"attributes\":{\"source\":{\"id\":\"2466\"}},\"id\":\"2473\",\"type\":\"CDSView\"},{\"attributes\":{},\"id\":\"2437\",\"type\":\"UnionRenderers\"},{\"attributes\":{\"fill_alpha\":{\"value\":0.1},\"fill_color\":{\"value\":\"#e5ae38\"},\"hatch_alpha\":{\"value\":0.1},\"hatch_color\":{\"value\":\"#e5ae38\"},\"line_alpha\":{\"value\":0.1},\"line_color\":{\"value\":\"#e5ae38\"},\"size\":{\"value\":5.477225575051661},\"x\":{\"field\":\"x\"},\"y\":{\"field\":\"y\"}},\"id\":\"2446\",\"type\":\"Scatter\"},{\"attributes\":{\"label\":{\"value\":\"2\"},\"renderers\":[{\"id\":\"2448\"}]},\"id\":\"2464\",\"type\":\"LegendItem\"},{\"attributes\":{\"fill_alpha\":{\"value\":0.1},\"fill_color\":{\"value\":\"#fc4f30\"},\"hatch_alpha\":{\"value\":0.1},\"hatch_color\":{\"value\":\"#fc4f30\"},\"line_alpha\":{\"value\":0.1},\"line_color\":{\"value\":\"#fc4f30\"},\"size\":{\"value\":5.477225575051661},\"x\":{\"field\":\"x\"},\"y\":{\"field\":\"y\"}},\"id\":\"2424\",\"type\":\"Scatter\"},{\"attributes\":{\"angle\":{\"value\":0.0},\"fill_alpha\":{\"value\":1.0},\"fill_color\":{\"value\":\"#8b8b8b\"},\"hatch_alpha\":{\"value\":1.0},\"hatch_color\":{\"value\":\"#8b8b8b\"},\"hatch_scale\":{\"value\":12.0},\"hatch_weight\":{\"value\":1.0},\"line_alpha\":{\"value\":1.0},\"line_cap\":{\"value\":\"butt\"},\"line_color\":{\"value\":\"#8b8b8b\"},\"line_dash\":{\"value\":[]},\"line_dash_offset\":{\"value\":0},\"line_join\":{\"value\":\"bevel\"},\"line_width\":{\"value\":1},\"marker\":{\"value\":\"circle\"},\"size\":{\"value\":5.477225575051661},\"x\":{\"field\":\"x\"},\"y\":{\"field\":\"y\"}},\"id\":\"2519\",\"type\":\"Scatter\"},{\"attributes\":{\"fill_alpha\":{\"value\":0.2},\"fill_color\":{\"value\":\"#30a2da\"},\"hatch_alpha\":{\"value\":0.2},\"hatch_color\":{\"value\":\"#30a2da\"},\"line_alpha\":{\"value\":0.2},\"line_color\":{\"value\":\"#30a2da\"},\"size\":{\"value\":5.477225575051661},\"x\":{\"field\":\"x\"},\"y\":{\"field\":\"y\"}},\"id\":\"2404\",\"type\":\"Scatter\"},{\"attributes\":{\"angle\":{\"value\":0.0},\"fill_alpha\":{\"value\":1.0},\"fill_color\":{\"value\":\"#e5ae38\"},\"hatch_alpha\":{\"value\":1.0},\"hatch_color\":{\"value\":\"#e5ae38\"},\"hatch_scale\":{\"value\":12.0},\"hatch_weight\":{\"value\":1.0},\"line_alpha\":{\"value\":1.0},\"line_cap\":{\"value\":\"butt\"},\"line_color\":{\"value\":\"#e5ae38\"},\"line_dash\":{\"value\":[]},\"line_dash_offset\":{\"value\":0},\"line_join\":{\"value\":\"bevel\"},\"line_width\":{\"value\":1},\"marker\":{\"value\":\"circle\"},\"size\":{\"value\":5.477225575051661},\"x\":{\"field\":\"x\"},\"y\":{\"field\":\"y\"}},\"id\":\"2465\",\"type\":\"Scatter\"},{\"attributes\":{\"fill_color\":{\"value\":\"#6d904f\"},\"hatch_color\":{\"value\":\"#6d904f\"},\"line_color\":{\"value\":\"#6d904f\"},\"size\":{\"value\":5.477225575051661},\"x\":{\"field\":\"x\"},\"y\":{\"field\":\"y\"}},\"id\":\"2469\",\"type\":\"Scatter\"},{\"attributes\":{\"source\":{\"id\":\"2492\"}},\"id\":\"2499\",\"type\":\"CDSView\"},{\"attributes\":{\"fill_alpha\":{\"value\":0.1},\"fill_color\":{\"value\":\"#6d904f\"},\"hatch_alpha\":{\"value\":0.1},\"hatch_color\":{\"value\":\"#6d904f\"},\"line_alpha\":{\"value\":0.1},\"line_color\":{\"value\":\"#6d904f\"},\"size\":{\"value\":5.477225575051661},\"x\":{\"field\":\"x\"},\"y\":{\"field\":\"y\"}},\"id\":\"2470\",\"type\":\"Scatter\"},{\"attributes\":{},\"id\":\"2461\",\"type\":\"UnionRenderers\"},{\"attributes\":{},\"id\":\"2397\",\"type\":\"BasicTickFormatter\"},{\"attributes\":{},\"id\":\"2515\",\"type\":\"UnionRenderers\"},{\"attributes\":{},\"id\":\"2421\",\"type\":\"Selection\"},{\"attributes\":{\"axis\":{\"id\":\"2372\"},\"coordinates\":null,\"grid_line_color\":null,\"group\":null,\"ticker\":null},\"id\":\"2375\",\"type\":\"Grid\"},{\"attributes\":{\"fill_alpha\":{\"value\":0.2},\"fill_color\":{\"value\":\"#e5ae38\"},\"hatch_alpha\":{\"value\":0.2},\"hatch_color\":{\"value\":\"#e5ae38\"},\"line_alpha\":{\"value\":0.2},\"line_color\":{\"value\":\"#e5ae38\"},\"size\":{\"value\":5.477225575051661},\"x\":{\"field\":\"x\"},\"y\":{\"field\":\"y\"}},\"id\":\"2447\",\"type\":\"Scatter\"},{\"attributes\":{\"fill_color\":{\"value\":\"#e5ae38\"},\"hatch_color\":{\"value\":\"#e5ae38\"},\"line_color\":{\"value\":\"#e5ae38\"},\"size\":{\"value\":5.477225575051661},\"x\":{\"field\":\"x\"},\"y\":{\"field\":\"y\"}},\"id\":\"2445\",\"type\":\"Scatter\"},{\"attributes\":{\"fill_color\":{\"value\":\"#30a2da\"},\"hatch_color\":{\"value\":\"#30a2da\"},\"line_color\":{\"value\":\"#30a2da\"},\"size\":{\"value\":5.477225575051661},\"x\":{\"field\":\"x\"},\"y\":{\"field\":\"y\"}},\"id\":\"2402\",\"type\":\"Scatter\"},{\"attributes\":{\"fill_color\":{\"value\":\"#fc4f30\"},\"hatch_color\":{\"value\":\"#fc4f30\"},\"line_color\":{\"value\":\"#fc4f30\"},\"size\":{\"value\":5.477225575051661},\"x\":{\"field\":\"x\"},\"y\":{\"field\":\"y\"}},\"id\":\"2423\",\"type\":\"Scatter\"},{\"attributes\":{\"label\":{\"value\":\"4\"},\"renderers\":[{\"id\":\"2498\"}]},\"id\":\"2518\",\"type\":\"LegendItem\"},{\"attributes\":{\"data\":{\"class\":{\"__ndarray__\":\"AAAAAAAAAAAAAAAAAAAAAAAAAAAAAAAAAAAAAAAAAAAAAAAAAAAAAAAAAAAAAAAAAAAAAAAAAAAAAAAAAAAAAAAAAAAAAAAAAAAAAAAAAAAAAAAAAAAAAAAAAAAAAAAAAAAAAAAAAAAAAAAAAAAAAAAAAAAAAAAAAAAAAAAAAAAAAAAAAAAAAAAAAAAAAAAAAAAAAAAAAAAAAAAAAAAAAAAAAAAAAAAAAAAAAAAAAAAAAAAAAAAAAAAAAAAAAAAAAAAAAAAAAAAAAAAAAAAAAAAAAAAAAAAAAAAAAAAAAAAAAAAAAAAAAAAAAAAAAAAAAAAAAAAAAAAAAAAAAAAAAAAAAAAAAAAAAAAAAAAAAAAAAAAAAAAAAAAAAAAAAAAAAAAAAAAAAAAAAAAAAAAAAAAAAAAAAAAAAAAAAAAAAAAAAAAAAAAAAAAAAAAAAAAAAAAAAAAAAAAAAAAAAAAAAAAAAAAAAAAAAAAAAAAAAAAAAAAAAAAAAAAAAAAAAAAAAAAAAAAAAAAAAAAAAAAAAAAAAAAAAAAAAAAAAAAAAAAAAAAAAAAAAAAAAAAAAAAAAAAAAAAAAAAAAAAAAAAAAAAAAAAAAAAAAAAAAAAAAAAAAAAAAAAAAAAAAAAAAAAAAAAAAAAAAAAAAAAAAAAAAAAAAAAAAAAAAAAAAA==\",\"dtype\":\"int32\",\"order\":\"little\",\"shape\":[127]},\"x\":{\"__ndarray__\":\"xs6TwvdJJsKZ3W3CwZOTwulFLsJd3nPCeU+Owihlc8JjpWXCw3+QwrtsQMJqDG3CV8kwwk4ul8IQoDzCLuqcwuaMd8JqfCfCT1xiwpyrWcLGHZbCkwRrwjM/kMIesJHCYQGSwlCKa8LynZPClYoxwk2KksJZoI7CdtAqwt76bcI/dS3CNHKBwnf/isKaDY3CCgeRwmOWpcJ6/EnCO4huwlOBo8ITsp/CBslQwgcphcLWMGbCbKuXwkmjWcLi6B7C+W1lwuUnJsJnoC/Cp5AqwuCufcKhmJPCHnZ0wpV0SMJEXVzCDWAPwvxHHMJGwkbCC5pTwtHKcsIlgUHC0o2KwnSfjsK5yW/CKtF1wpq8lMLXQRnCGUWLwqhQRsKF31TCDwtbwrPioMJGkWrCQlpowr93osLmBmzCGzVRwimwYcKyq5HCm4MNwqtaMsL/a4nCfwKlwjwYicKBn0zCta9twpu2SMJDS0PCLk5awh9KosIaIJ3C23hzwqOmX8J1Mb3BmLAdwhYnncJhn2/CNjA7wnECksIdlDDCpYLAwdiAnMIbMRPCLxZywuupgMJLKHjCLXwswnrsS8LL+YXC4msawvajJ8J8SVvCkgoywj6BV8IZlUrCqWdBwqrhocI30j/Clzw6wt2Wd8LbGYnC709XwnSXlcLcdJrC/PVuwg==\",\"dtype\":\"float32\",\"order\":\"little\",\"shape\":[127]},\"y\":{\"__ndarray__\":\"W3+FPw30b0ECKetBCerbvpV3fMAbOM5B4u3pQMXT+kE9kp5APPqSPtANbUH/VJHBNfaZQZoDT8CzkwnBomdqPwhbg8Asp+DAB/NjwZFpscGYRudAG8NGQZgBlUHVJJhBUc0CwZJlsECyrvG/hbHkvytF6kB/S4FBZYy4wOddOkFm9YlBMarTwCZSwUBEXkLABp/vQOP/EUE1SZPBGar4wFvNccD2rqfAvw2cweUY779xBu5B/tksQVzBU0FJemhBsu2NQGCqBsEbzZNBjWOYPsXhh8Ae5jxAY5KcwOHBEEBVRJXBTZOVQIVupsAf0HPAoZHxvoh7IUHuLorAQZqDQUhAbcAzUs7A8FwbwBVUG0HiKYBBPAuLQdRKLkBtllJBz4o7wZA5isBgTJDB/yDQQU8dbEFSzFVB1CJQv1PRRsF3KhFBBD6OQKpNo0Fyfbe/YLYYQa4qpkHHAIjBHEdmQIjYVEH232RBWBYmway2YEGavqFB0SIBQmiPlMF/kqVAH9tyQe+dqkHNQOlA5VqQQC9v8MAkHKg/PSWrQMLHykGUnq9AagHyQQpprcCh5/JBBXvHPxYAREHhQJdBNwjEwNOIHEA3NaDB0GkwwObbQcFJuCZBGv/bwCE8SkGgAU1AL9MOwZPKHUH51pdBoNGZwS2uND952Aw/ifDYQQ==\",\"dtype\":\"float32\",\"order\":\"little\",\"shape\":[127]}},\"selected\":{\"id\":\"2400\"},\"selection_policy\":{\"id\":\"2414\"}},\"id\":\"2399\",\"type\":\"ColumnDataSource\"},{\"attributes\":{},\"id\":\"2487\",\"type\":\"UnionRenderers\"},{\"attributes\":{},\"id\":\"2398\",\"type\":\"AllLabels\"},{\"attributes\":{\"coordinates\":null,\"group\":null,\"text_color\":\"black\",\"text_font_size\":\"12pt\"},\"id\":\"2364\",\"type\":\"Title\"},{\"attributes\":{\"fill_alpha\":{\"value\":0.1},\"fill_color\":{\"value\":\"#30a2da\"},\"hatch_alpha\":{\"value\":0.1},\"hatch_color\":{\"value\":\"#30a2da\"},\"line_alpha\":{\"value\":0.1},\"line_color\":{\"value\":\"#30a2da\"},\"size\":{\"value\":5.477225575051661},\"x\":{\"field\":\"x\"},\"y\":{\"field\":\"y\"}},\"id\":\"2403\",\"type\":\"Scatter\"},{\"attributes\":{},\"id\":\"2373\",\"type\":\"BasicTicker\"},{\"attributes\":{\"source\":{\"id\":\"2420\"}},\"id\":\"2427\",\"type\":\"CDSView\"},{\"attributes\":{},\"id\":\"2377\",\"type\":\"BasicTicker\"},{\"attributes\":{},\"id\":\"2395\",\"type\":\"AllLabels\"},{\"attributes\":{},\"id\":\"2414\",\"type\":\"UnionRenderers\"},{\"attributes\":{},\"id\":\"2370\",\"type\":\"LinearScale\"},{\"attributes\":{\"angle\":{\"value\":0.0},\"fill_alpha\":{\"value\":1.0},\"fill_color\":{\"value\":\"#6d904f\"},\"hatch_alpha\":{\"value\":1.0},\"hatch_color\":{\"value\":\"#6d904f\"},\"hatch_scale\":{\"value\":12.0},\"hatch_weight\":{\"value\":1.0},\"line_alpha\":{\"value\":1.0},\"line_cap\":{\"value\":\"butt\"},\"line_color\":{\"value\":\"#6d904f\"},\"line_dash\":{\"value\":[]},\"line_dash_offset\":{\"value\":0},\"line_join\":{\"value\":\"bevel\"},\"line_width\":{\"value\":1},\"marker\":{\"value\":\"circle\"},\"size\":{\"value\":5.477225575051661},\"x\":{\"field\":\"x\"},\"y\":{\"field\":\"y\"}},\"id\":\"2491\",\"type\":\"Scatter\"},{\"attributes\":{\"axis_label\":\"y\",\"coordinates\":null,\"formatter\":{\"id\":\"2397\"},\"group\":null,\"major_label_policy\":{\"id\":\"2398\"},\"ticker\":{\"id\":\"2377\"}},\"id\":\"2376\",\"type\":\"LinearAxis\"},{\"attributes\":{},\"id\":\"2400\",\"type\":\"Selection\"},{\"attributes\":{},\"id\":\"2467\",\"type\":\"Selection\"},{\"attributes\":{\"data\":{\"class\":{\"__ndarray__\":\"BAAAAAQAAAAEAAAABAAAAAQAAAAEAAAABAAAAAQAAAAEAAAABAAAAAQAAAAEAAAABAAAAAQAAAAEAAAABAAAAAQAAAAEAAAABAAAAAQAAAAEAAAABAAAAAQAAAAEAAAABAAAAAQAAAAEAAAABAAAAAQAAAAEAAAABAAAAAQAAAAEAAAABAAAAAQAAAAEAAAABAAAAAQAAAAEAAAABAAAAAQAAAAEAAAABAAAAAQAAAAEAAAABAAAAAQAAAAEAAAABAAAAAQAAAAEAAAABAAAAAQAAAAEAAAABAAAAAQAAAAEAAAABAAAAAQAAAAEAAAABAAAAAQAAAAEAAAABAAAAAQAAAAEAAAABAAAAAQAAAAEAAAABAAAAAQAAAAEAAAABAAAAAQAAAAEAAAABAAAAAQAAAAEAAAABAAAAAQAAAAEAAAABAAAAAQAAAAEAAAABAAAAAQAAAAEAAAABAAAAAQAAAAEAAAABAAAAAQAAAA=\",\"dtype\":\"int32\",\"order\":\"little\",\"shape\":[92]},\"x\":{\"__ndarray__\":\"6dztwZvMgMHWM+bBdFPKwJq8isFnQFHB1R63wY23CcE8OKLB3AEGwknk7cFJxAPCLA/QwTNG1MF0avvBvp8Ywp0+18Fp4LvA0o2WwZh4FsKo7q3BMqo0wat+isHsdyrB9rTNwdr9mcF4C7TBzmh+wcWaA8LC7PPBYRtCwTqjCsE8mdfB5H3NwJZD2cFOOW/BZbVQwWf0GMFLZfbB/pOwwW4D68FBMwLCbVkxwecKLMEumcrBIZh7wfIX+8A5P7jB8A3qwXRZUsFaDkfBadnuwZFXAsI4pADCOqolwVlY5sCugxPCzreBwaRsSMHZrgdB7hm3waK/38HeE4bBLV16v2QzEsHMgyvBzsLKwaBiAMLzfADCFDC0wGwox8GCodjBsnK2wd1q38GBpKHBbdCdwY4MEsIx/wfCCMtdwaC7k8EkEdDBq9nEwaDgx8EVnAHChb2MwQuWdcEkTQBBeALGwYlO9b8q9evBpVW/wS/igME=\",\"dtype\":\"float32\",\"order\":\"little\",\"shape\":[92]},\"y\":{\"__ndarray__\":\"BZFtwinTFMJ4m8XBgXsNwr+/5MEHfcbBy5rVP0NLF8Dc3svA/2CMwb87ScJ4ndzB46e3wcptF8LaBc7BLoGcwYppE8Il+AbCzmN6P1v3nMFXAZrBWCEnwksR7MGwEWTB+bs8whcGmsBBnj/A2wvxP6CL/sGwCsvBS0bUwZfZCsLBMyzCduIdwqQVKsJJVy7C0DgcwhmR5r/MlSnCbinIPxbmUsJ2p0PCePrrweY04MELNUDC8vorwhbnDMLZzSzCZ4AqwviDJ8KS/87BeSNwwswzPMJdRUnC7vuuv55EE8IwmkvCwUERwoVTHcLn6HPBHnMuwk/zJcKY+gfCHFb5wQyS3cEZymrBkcYzwOHgT8KXRdPBk/MiwpqWHsKcx0rCb0efwSo9v8E3Crk/JKmhwJuhS8JHmJfBS6YnwuDk28GPKR3CRQawwcCQRcL7dyjCboEAwtNp+T+sl2/BJ2QvwAA9S8I1e2fC9rZHwsIW48E=\",\"dtype\":\"float32\",\"order\":\"little\",\"shape\":[92]}},\"selected\":{\"id\":\"2493\"},\"selection_policy\":{\"id\":\"2515\"}},\"id\":\"2492\",\"type\":\"ColumnDataSource\"},{\"attributes\":{\"label\":{\"value\":\"3\"},\"renderers\":[{\"id\":\"2472\"}]},\"id\":\"2490\",\"type\":\"LegendItem\"},{\"attributes\":{\"coordinates\":null,\"data_source\":{\"id\":\"2420\"},\"glyph\":{\"id\":\"2423\"},\"group\":null,\"hover_glyph\":null,\"muted_glyph\":{\"id\":\"2425\"},\"nonselection_glyph\":{\"id\":\"2424\"},\"selection_glyph\":{\"id\":\"2441\"},\"view\":{\"id\":\"2427\"}},\"id\":\"2426\",\"type\":\"GlyphRenderer\"},{\"attributes\":{\"axis_label\":\"x\",\"coordinates\":null,\"formatter\":{\"id\":\"2394\"},\"group\":null,\"major_label_policy\":{\"id\":\"2395\"},\"ticker\":{\"id\":\"2373\"}},\"id\":\"2372\",\"type\":\"LinearAxis\"},{\"attributes\":{\"end\":86.72858745029994,\"reset_end\":86.72858745029994,\"reset_start\":-89.76039439610072,\"start\":-89.76039439610072,\"tags\":[[[\"x\",\"x\",null]]]},\"id\":\"2356\",\"type\":\"Range1d\"},{\"attributes\":{\"source\":{\"id\":\"2442\"}},\"id\":\"2449\",\"type\":\"CDSView\"},{\"attributes\":{\"data\":{\"class\":{\"__ndarray__\":\"AgAAAAIAAAACAAAAAgAAAAIAAAACAAAAAgAAAAIAAAACAAAAAgAAAAIAAAACAAAAAgAAAAIAAAACAAAAAgAAAAIAAAACAAAAAgAAAAIAAAACAAAAAgAAAAIAAAACAAAAAgAAAAIAAAACAAAAAgAAAAIAAAACAAAAAgAAAAIAAAACAAAAAgAAAAIAAAACAAAAAgAAAAIAAAACAAAAAgAAAAIAAAACAAAAAgAAAAIAAAACAAAAAgAAAAIAAAACAAAAAgAAAAIAAAACAAAAAgAAAAIAAAACAAAAAgAAAAIAAAACAAAAAgAAAAIAAAACAAAAAgAAAAIAAAACAAAAAgAAAAIAAAACAAAAAgAAAAIAAAACAAAAAgAAAAIAAAACAAAAAgAAAAIAAAACAAAAAgAAAAIAAAACAAAAAgAAAAIAAAACAAAAAgAAAAIAAAACAAAAAgAAAAIAAAACAAAAAgAAAAIAAAACAAAAAgAAAAIAAAACAAAAAgAAAAIAAAACAAAAAgAAAAIAAAACAAAAAgAAAAIAAAACAAAAAgAAAAIAAAACAAAAAgAAAAIAAAACAAAAAgAAAAIAAAACAAAAAgAAAAIAAAACAAAAAgAAAAIAAAACAAAAAgAAAAIAAAACAAAAAgAAAAIAAAACAAAAAgAAAAIAAAACAAAAAgAAAAIAAAACAAAAAgAAAAIAAAACAAAAAgAAAAIAAAACAAAAAgAAAAIAAAACAAAAAgAAAAIAAAACAAAAAgAAAAIAAAACAAAAAgAAAAIAAAACAAAAAgAAAA==\",\"dtype\":\"int32\",\"order\":\"little\",\"shape\":[148]},\"x\":{\"__ndarray__\":\"AjmhwRMo6MG+t5dAbPY6QS/iFcGM/pjBXgQiwZ87QUDumPDBG0d0PrH8YcGDNzRAEA0DwrEVtcAIFCzBo375wP1gDcHoAiHAjzbdQIQynMAB2ovB54CkwfW+ucCYNQpBUFpMwEccksEaHQVAHWyRQV1lAkBRpKVAWlKywOzwxcGdW2tAE2bkwEMuw0D0IQDCka65wSk198G+3vfALFaaQeqeB8I4OU9A9D4MwgZ8V8E7U33ACEOdwA3qiz9+DUM/LseLQF+9oUE23arAq3qQwV/uDUHoITlB+h1AQWyJh8ELDvDBFuwEwZXs00ATqOnBeQ4rQF8SQkFKxI7BPbg+QdmrlUAUEOJAF/rzwdBwFEBqAsZAtAG2wDZ6nMFRFZDBk0KtwUMgUsFRG2TBZCWNwRnqF0GAddHB75y3vxdnTsE8nPTBkz1IQezTWEE3siFBo2r8wI/vV0AJiqs+Z9eAwfwEP8Gff8JAIVPsPiClq8EYSLY+qWc7wZXMLsBHpChBUY2RwbcYXMEpo6y/GTOKwBIlKEFoA2vBM2PCQK1KLkB6mIDB7sVpwdL+/cD7eeXBFvvov9Yfxz+VtztAXow9weQ5PsHG68LA65CYQLP7CcIxlHvBaEaPPAipdsHisCtBmk88wQN6aL13wpk/LbiAwajYxcCFNMI+6mueQK8J/sElDhTBQ6ScwR81s8GRcaLAof6Zv5OggsEU3RnABvVSv8scVMHBEGk/mPsGwpC7NMECUfvBSxQIwXnFBkFMD6lAlncBwGsyDEHRklLBc82ewQ==\",\"dtype\":\"float32\",\"order\":\"little\",\"shape\":[148]},\"y\":{\"__ndarray__\":\"vznCQcTGO0IvQYpBvM0uQeYSHkI1/TpC1A54QkzyhUFfj9dBrfIgQoWyM0KfX4ZC3qkcQonXZ0G0b+VBm848QoQDL0HKsX5CeDWPQR0BV0J0QDhCtn8hQqUyV0Fwlo9BZ6D7Qb9JskGz+3pCZf6JQm3+akKN01FClFM8QrPbTkIe9IxCxouNQavwiELi2jRCLgtSQtGeIELNoUZB8sSJQhkUSEKUEAZCFmpNQjcflEH2l0lCBaw/QhEhhEGolAVCpltQQqiGiULq51xCompOQpHmSkIAh0pBPm1gQdywK0JXaSpCY7RqQu22hEJceitCb7xNQlINHUGaXjRCNSM+Qi0VIEI/fYlCNvnVQV5WhUIsKoFCYX6FQuwuy0FsDaBB+2NVQsbJAEI+NSpCbuz5QQkDMkK8vUtChWT9QeqyNUKBoRhCfoQPQaUSO0JVJ09CW8ZzQn+sH0JNxgxCMVkPQqYLXkEAtXdCUV8bQWFpmUHvJBRBwyk3QpqxIUJkD0hC2YOWQVZ39EGndSBCVQBMQpdIPkIuApZB17p6QmlpZkIA+xxCask2QvHdekIaYj5COIZyQiuRIEL8fkpCaAaXQR4PDkFGeIFBblKJQl4nS0KGwfhBCHURQsfdEUKYyEFCiWhQQh3ggkGDhwBCkwH7QcX6hELLEShCP3t9Qf2hHUKWsiBCnwW1QVsOVEK/LXlCZHd4QhvKR0JzigVCy5kHQpVkBUExBXtCqF00QmvD8EHRwjdC+9p3QrbujELlzZBB9E17QpjujUKG2WpBb/MkQg==\",\"dtype\":\"float32\",\"order\":\"little\",\"shape\":[148]}},\"selected\":{\"id\":\"2443\"},\"selection_policy\":{\"id\":\"2461\"}},\"id\":\"2442\",\"type\":\"ColumnDataSource\"},{\"attributes\":{\"coordinates\":null,\"data_source\":{\"id\":\"2492\"},\"glyph\":{\"id\":\"2495\"},\"group\":null,\"hover_glyph\":null,\"muted_glyph\":{\"id\":\"2497\"},\"nonselection_glyph\":{\"id\":\"2496\"},\"selection_glyph\":{\"id\":\"2519\"},\"view\":{\"id\":\"2499\"}},\"id\":\"2498\",\"type\":\"GlyphRenderer\"},{\"attributes\":{\"axis\":{\"id\":\"2376\"},\"coordinates\":null,\"dimension\":1,\"grid_line_color\":null,\"group\":null,\"ticker\":null},\"id\":\"2379\",\"type\":\"Grid\"},{\"attributes\":{\"label\":{\"value\":\"0\"},\"renderers\":[{\"id\":\"2405\"}]},\"id\":\"2418\",\"type\":\"LegendItem\"},{\"attributes\":{\"angle\":{\"value\":0.0},\"fill_alpha\":{\"value\":1.0},\"fill_color\":{\"value\":\"#fc4f30\"},\"hatch_alpha\":{\"value\":1.0},\"hatch_color\":{\"value\":\"#fc4f30\"},\"hatch_scale\":{\"value\":12.0},\"hatch_weight\":{\"value\":1.0},\"line_alpha\":{\"value\":1.0},\"line_cap\":{\"value\":\"butt\"},\"line_color\":{\"value\":\"#fc4f30\"},\"line_dash\":{\"value\":[]},\"line_dash_offset\":{\"value\":0},\"line_join\":{\"value\":\"bevel\"},\"line_width\":{\"value\":1},\"marker\":{\"value\":\"circle\"},\"size\":{\"value\":5.477225575051661},\"x\":{\"field\":\"x\"},\"y\":{\"field\":\"y\"}},\"id\":\"2441\",\"type\":\"Scatter\"},{\"attributes\":{\"fill_alpha\":{\"value\":0.1},\"fill_color\":{\"value\":\"#8b8b8b\"},\"hatch_alpha\":{\"value\":0.1},\"hatch_color\":{\"value\":\"#8b8b8b\"},\"line_alpha\":{\"value\":0.1},\"line_color\":{\"value\":\"#8b8b8b\"},\"size\":{\"value\":5.477225575051661},\"x\":{\"field\":\"x\"},\"y\":{\"field\":\"y\"}},\"id\":\"2496\",\"type\":\"Scatter\"},{\"attributes\":{\"fill_alpha\":{\"value\":0.2},\"fill_color\":{\"value\":\"#6d904f\"},\"hatch_alpha\":{\"value\":0.2},\"hatch_color\":{\"value\":\"#6d904f\"},\"line_alpha\":{\"value\":0.2},\"line_color\":{\"value\":\"#6d904f\"},\"size\":{\"value\":5.477225575051661},\"x\":{\"field\":\"x\"},\"y\":{\"field\":\"y\"}},\"id\":\"2471\",\"type\":\"Scatter\"},{\"attributes\":{\"coordinates\":null,\"data_source\":{\"id\":\"2399\"},\"glyph\":{\"id\":\"2402\"},\"group\":null,\"hover_glyph\":null,\"muted_glyph\":{\"id\":\"2404\"},\"nonselection_glyph\":{\"id\":\"2403\"},\"selection_glyph\":{\"id\":\"2419\"},\"view\":{\"id\":\"2406\"}},\"id\":\"2405\",\"type\":\"GlyphRenderer\"},{\"attributes\":{\"data\":{\"class\":{\"__ndarray__\":\"AQAAAAEAAAABAAAAAQAAAAEAAAABAAAAAQAAAAEAAAABAAAAAQAAAAEAAAABAAAAAQAAAAEAAAABAAAAAQAAAAEAAAABAAAAAQAAAAEAAAABAAAAAQAAAAEAAAABAAAAAQAAAAEAAAABAAAAAQAAAAEAAAABAAAAAQAAAAEAAAABAAAAAQAAAAEAAAABAAAAAQAAAAEAAAABAAAAAQAAAAEAAAABAAAAAQAAAAEAAAABAAAAAQAAAAEAAAABAAAAAQAAAAEAAAABAAAAAQAAAAEAAAABAAAAAQAAAAEAAAABAAAAAQAAAAEAAAABAAAAAQAAAAEAAAABAAAAAQAAAAEAAAABAAAAAQAAAAEAAAABAAAAAQAAAAEAAAABAAAAAQAAAAEAAAABAAAAAQAAAAEAAAABAAAAAQAAAAEAAAABAAAAAQAAAAEAAAABAAAAAQAAAAEAAAABAAAAAQAAAAEAAAABAAAAAQAAAAEAAAABAAAAAQAAAAEAAAABAAAAAQAAAAEAAAABAAAAAQAAAAEAAAABAAAAAQAAAAEAAAABAAAAAQAAAAEAAAABAAAAAQAAAAEAAAABAAAAAQAAAAEAAAABAAAAAQAAAAEAAAABAAAAAQAAAAEAAAABAAAAAQAAAA==\",\"dtype\":\"int32\",\"order\":\"little\",\"shape\":[121]},\"x\":{\"__ndarray__\":\"dFeZQSrY3EFp4eJBfUIWQqKZy0FIe/5B34/wQd4vrEGOzflARBy3QShpyEEJpKBBc/anQTwqREKFS5NBtzvSQYDgeUGeVfRBpWalQSHyE0Gd2BxCislxQdfuoEHP+B5CbcbPQeJrM0J4cQBCDnyxQS/fMkHqigVCm9UlQZiQF0KcxxVC9JBNQWsoIELJJLtB6e5tQQ/wGUGl/qJB2sQeQuf+6kFCcCxCia85QuAs60GZy4hBX5c5QsBujUHTl89Bbr8dQjf+AELRG/BB11muQQZk9EH6ou9BSligQesSK0IP6uxBEfQLQlpdo0Eb5f5Bqx8rQWZOA0LxJ61BaWpvQTgGqUE/kXVBebNAQiV4HkLdG/RB+QysQe7AE0EfRMBBbqChQeBisUF0DLJBsTvjQbBRo0F1+vpB44hzQYwbJkKGou5B4U7OQRI2LkKNSvlBigdBQqBTwUGHV71BhTYHQm1hQ0LT45pBSDd2QXgKPUIWjLFBKS7vQVdP80G6jChC/7csQtWRhEFMt5hBxlp9QVN0EUE+FTZBHcCnQRzG2UGuDS5CLhCQQdxyTELghVVBMpc/QtnspUHFHMJBmQKPQZJcjkFEXOhB3TKZQU2VyEFrTwhCTNr1Qa+zT0IYY5NBiuM+QQ==\",\"dtype\":\"float32\",\"order\":\"little\",\"shape\":[121]},\"y\":{\"__ndarray__\":\"jKQJwvDDU8Lb1nTCcERYwnEuxMHEDg/CK7IGwoQRM8KvYojCaHROwQTCBMLkVAzCKhtnwY+BWMKcajHC9zpQwpF7m8Ho203CFS07wt5pccKBQE/CLiDtwfnoVcF6BTrCexPBwec4BMI56XnCJKAUwhtycsKBW0bCPltnwkxaXMJIKlLCUjdwwrPiNMIkXj3CEl9pwm6KhsLML4DBfjt4wrpDUsI4z9TBrhIHwmo5c8LYP/zBDIBdwtZIdcISbB/C57J2wqNocsKBRg3CKLKewZXiPMLQQUrCij5YwrQlUcJQV4XBR6JTwgZxVMIocPXBK0luwrvOWsJQIyXCxqVwwqkpXMIJ3HTC4LpZwjkdPcJtvmjCJWCNwepqY8IKGNbB6Q+IwaBGKsK9ZM/BI4kMwhkkMsL+bETC++yWwbOU/8Hc4RPCoe8Owk+J7cHu2v7BDcAKwg3NKMKt5wvCGnhUwm8EYcIJyunB87NkwlALCcJopajBXzc2wgN3d8Ks2U/CAU36wf5JXMKzw3bCH3Z6wnG6hsLGx4jBWYfXwbCMesLsoeTBaBhawr6IVMLmMpHB3s5PwgesIsJwmMjBZH+owZQnC8KUKIXBKBCNwSINEcIsmUzCkshuwtmFUcIioADCCh2Awg==\",\"dtype\":\"float32\",\"order\":\"little\",\"shape\":[121]}},\"selected\":{\"id\":\"2421\"},\"selection_policy\":{\"id\":\"2437\"}},\"id\":\"2420\",\"type\":\"ColumnDataSource\"},{\"attributes\":{\"fill_alpha\":{\"value\":0.2},\"fill_color\":{\"value\":\"#fc4f30\"},\"hatch_alpha\":{\"value\":0.2},\"hatch_color\":{\"value\":\"#fc4f30\"},\"line_alpha\":{\"value\":0.2},\"line_color\":{\"value\":\"#fc4f30\"},\"size\":{\"value\":5.477225575051661},\"x\":{\"field\":\"x\"},\"y\":{\"field\":\"y\"}},\"id\":\"2425\",\"type\":\"Scatter\"},{\"attributes\":{\"end\":84.88187789916992,\"reset_end\":84.88187789916992,\"reset_start\":-82.10861587524414,\"start\":-82.10861587524414,\"tags\":[[[\"y\",\"y\",null]]]},\"id\":\"2357\",\"type\":\"Range1d\"},{\"attributes\":{\"below\":[{\"id\":\"2372\"}],\"center\":[{\"id\":\"2375\"},{\"id\":\"2379\"}],\"height\":300,\"left\":[{\"id\":\"2376\"}],\"margin\":[5,5,5,5],\"min_border_bottom\":10,\"min_border_left\":10,\"min_border_right\":10,\"min_border_top\":10,\"renderers\":[{\"id\":\"2405\"},{\"id\":\"2426\"},{\"id\":\"2448\"},{\"id\":\"2472\"},{\"id\":\"2498\"}],\"right\":[{\"id\":\"2417\"}],\"sizing_mode\":\"fixed\",\"title\":{\"id\":\"2364\"},\"toolbar\":{\"id\":\"2386\"},\"width\":700,\"x_range\":{\"id\":\"2356\"},\"x_scale\":{\"id\":\"2368\"},\"y_range\":{\"id\":\"2357\"},\"y_scale\":{\"id\":\"2370\"}},\"id\":\"2363\",\"subtype\":\"Figure\",\"type\":\"Plot\"},{\"attributes\":{},\"id\":\"2394\",\"type\":\"BasicTickFormatter\"},{\"attributes\":{},\"id\":\"2380\",\"type\":\"SaveTool\"},{\"attributes\":{},\"id\":\"2368\",\"type\":\"LinearScale\"},{\"attributes\":{},\"id\":\"2381\",\"type\":\"PanTool\"},{\"attributes\":{\"angle\":{\"value\":0.0},\"fill_alpha\":{\"value\":1.0},\"fill_color\":{\"value\":\"#30a2da\"},\"hatch_alpha\":{\"value\":1.0},\"hatch_color\":{\"value\":\"#30a2da\"},\"hatch_scale\":{\"value\":12.0},\"hatch_weight\":{\"value\":1.0},\"line_alpha\":{\"value\":1.0},\"line_cap\":{\"value\":\"butt\"},\"line_color\":{\"value\":\"#30a2da\"},\"line_dash\":{\"value\":[]},\"line_dash_offset\":{\"value\":0},\"line_join\":{\"value\":\"bevel\"},\"line_width\":{\"value\":1},\"marker\":{\"value\":\"circle\"},\"size\":{\"value\":5.477225575051661},\"x\":{\"field\":\"x\"},\"y\":{\"field\":\"y\"}},\"id\":\"2419\",\"type\":\"Scatter\"},{\"attributes\":{\"fill_alpha\":{\"value\":0.2},\"fill_color\":{\"value\":\"#8b8b8b\"},\"hatch_alpha\":{\"value\":0.2},\"hatch_color\":{\"value\":\"#8b8b8b\"},\"line_alpha\":{\"value\":0.2},\"line_color\":{\"value\":\"#8b8b8b\"},\"size\":{\"value\":5.477225575051661},\"x\":{\"field\":\"x\"},\"y\":{\"field\":\"y\"}},\"id\":\"2497\",\"type\":\"Scatter\"},{\"attributes\":{\"coordinates\":null,\"data_source\":{\"id\":\"2466\"},\"glyph\":{\"id\":\"2469\"},\"group\":null,\"hover_glyph\":null,\"muted_glyph\":{\"id\":\"2471\"},\"nonselection_glyph\":{\"id\":\"2470\"},\"selection_glyph\":{\"id\":\"2491\"},\"view\":{\"id\":\"2473\"}},\"id\":\"2472\",\"type\":\"GlyphRenderer\"},{\"attributes\":{\"source\":{\"id\":\"2399\"}},\"id\":\"2406\",\"type\":\"CDSView\"},{\"attributes\":{},\"id\":\"2382\",\"type\":\"WheelZoomTool\"},{\"attributes\":{\"click_policy\":\"mute\",\"coordinates\":null,\"group\":null,\"items\":[{\"id\":\"2418\"},{\"id\":\"2440\"},{\"id\":\"2464\"},{\"id\":\"2490\"},{\"id\":\"2518\"}],\"location\":[0,0],\"title\":\"class\"},\"id\":\"2417\",\"type\":\"Legend\"},{\"attributes\":{\"overlay\":{\"id\":\"2385\"}},\"id\":\"2383\",\"type\":\"BoxZoomTool\"},{\"attributes\":{\"callback\":null,\"renderers\":[{\"id\":\"2405\"},{\"id\":\"2426\"},{\"id\":\"2448\"},{\"id\":\"2472\"},{\"id\":\"2498\"}],\"tags\":[\"hv_created\"],\"tooltips\":[[\"class\",\"@{class}\"],[\"x\",\"@{x}\"],[\"y\",\"@{y}\"]]},\"id\":\"2358\",\"type\":\"HoverTool\"},{\"attributes\":{},\"id\":\"2384\",\"type\":\"ResetTool\"},{\"attributes\":{},\"id\":\"2443\",\"type\":\"Selection\"},{\"attributes\":{\"children\":[{\"id\":\"2363\"}],\"height\":300,\"margin\":[0,0,0,0],\"name\":\"Row02434\",\"sizing_mode\":\"fixed\",\"tags\":[\"embedded\"],\"width\":700},\"id\":\"2355\",\"type\":\"Row\"},{\"attributes\":{},\"id\":\"2493\",\"type\":\"Selection\"}],\"root_ids\":[\"2355\"]},\"title\":\"Bokeh Application\",\"version\":\"2.4.3\"}};\n",
       "    var render_items = [{\"docid\":\"9e93a028-7221-4078-b7a5-f3facad0ab3a\",\"root_ids\":[\"2355\"],\"roots\":{\"2355\":\"a6957c5a-33f5-47de-aa8e-2da18d0844b8\"}}];\n",
       "    root.Bokeh.embed.embed_items_notebook(docs_json, render_items);\n",
       "    for (const render_item of render_items) {\n",
       "      for (const root_id of render_item.root_ids) {\n",
       "\tconst id_el = document.getElementById(root_id)\n",
       "\tif (id_el.children.length && (id_el.children[0].className === 'bk-root')) {\n",
       "\t  const root_el = id_el.children[0]\n",
       "\t  root_el.id = root_el.id + '-rendered'\n",
       "\t}\n",
       "      }\n",
       "    }\n",
       "  }\n",
       "  if (root.Bokeh !== undefined && root.Bokeh.Panel !== undefined) {\n",
       "    embed_document(root);\n",
       "  } else {\n",
       "    var attempts = 0;\n",
       "    var timer = setInterval(function(root) {\n",
       "      if (root.Bokeh !== undefined && root.Bokeh.Panel !== undefined) {\n",
       "        clearInterval(timer);\n",
       "        embed_document(root);\n",
       "      } else if (document.readyState == \"complete\") {\n",
       "        attempts++;\n",
       "        if (attempts > 200) {\n",
       "          clearInterval(timer);\n",
       "          console.log(\"Bokeh: ERROR: Unable to run BokehJS code because BokehJS library is missing\");\n",
       "        }\n",
       "      }\n",
       "    }, 25, root)\n",
       "  }\n",
       "})(window);</script>"
      ],
      "text/plain": [
       ":NdOverlay   [class]\n",
       "   :Scatter   [x]   (y,class)"
      ]
     },
     "execution_count": 218,
     "metadata": {
      "application/vnd.holoviews_exec.v0+json": {
       "id": "2355"
      }
     },
     "output_type": "execute_result"
    }
   ],
   "source": [
    "#2D view of the class clusters. \n",
    "clusters.hvplot.scatter(\n",
    "    x=\"x\",\n",
    "    y=\"y\",\n",
    "    hover_cols=[\"class\"],\n",
    "    by=\"class\",\n",
    ")"
   ]
  },
  {
   "cell_type": "code",
   "execution_count": 219,
   "metadata": {},
   "outputs": [
    {
     "ename": "ValueError",
     "evalue": "Mime type rendering requires nbformat>=4.2.0 but it is not installed",
     "output_type": "error",
     "traceback": [
      "\u001b[1;31m---------------------------------------------------------------------------\u001b[0m",
      "\u001b[1;31mValueError\u001b[0m                                Traceback (most recent call last)",
      "\u001b[1;32m~\\AppData\\Local\\Temp\\ipykernel_14936\\2095409671.py\u001b[0m in \u001b[0;36m<module>\u001b[1;34m\u001b[0m\n\u001b[0;32m     10\u001b[0m )\n\u001b[0;32m     11\u001b[0m \u001b[0mfig\u001b[0m\u001b[1;33m.\u001b[0m\u001b[0mupdate_layout\u001b[0m\u001b[1;33m(\u001b[0m\u001b[0mlegend\u001b[0m\u001b[1;33m=\u001b[0m\u001b[0mdict\u001b[0m\u001b[1;33m(\u001b[0m\u001b[0mx\u001b[0m\u001b[1;33m=\u001b[0m\u001b[1;36m0\u001b[0m\u001b[1;33m,\u001b[0m \u001b[0my\u001b[0m\u001b[1;33m=\u001b[0m\u001b[1;36m1\u001b[0m\u001b[1;33m)\u001b[0m\u001b[1;33m)\u001b[0m\u001b[1;33m\u001b[0m\u001b[1;33m\u001b[0m\u001b[0m\n\u001b[1;32m---> 12\u001b[1;33m \u001b[0mfig\u001b[0m\u001b[1;33m.\u001b[0m\u001b[0mshow\u001b[0m\u001b[1;33m(\u001b[0m\u001b[1;33m)\u001b[0m\u001b[1;33m\u001b[0m\u001b[1;33m\u001b[0m\u001b[0m\n\u001b[0m",
      "\u001b[1;32mc:\\Users\\erdos\\anaconda3\\envs\\PythonML\\lib\\site-packages\\plotly\\basedatatypes.py\u001b[0m in \u001b[0;36mshow\u001b[1;34m(self, *args, **kwargs)\u001b[0m\n\u001b[0;32m   3388\u001b[0m         \u001b[1;32mimport\u001b[0m \u001b[0mplotly\u001b[0m\u001b[1;33m.\u001b[0m\u001b[0mio\u001b[0m \u001b[1;32mas\u001b[0m \u001b[0mpio\u001b[0m\u001b[1;33m\u001b[0m\u001b[1;33m\u001b[0m\u001b[0m\n\u001b[0;32m   3389\u001b[0m \u001b[1;33m\u001b[0m\u001b[0m\n\u001b[1;32m-> 3390\u001b[1;33m         \u001b[1;32mreturn\u001b[0m \u001b[0mpio\u001b[0m\u001b[1;33m.\u001b[0m\u001b[0mshow\u001b[0m\u001b[1;33m(\u001b[0m\u001b[0mself\u001b[0m\u001b[1;33m,\u001b[0m \u001b[1;33m*\u001b[0m\u001b[0margs\u001b[0m\u001b[1;33m,\u001b[0m \u001b[1;33m**\u001b[0m\u001b[0mkwargs\u001b[0m\u001b[1;33m)\u001b[0m\u001b[1;33m\u001b[0m\u001b[1;33m\u001b[0m\u001b[0m\n\u001b[0m\u001b[0;32m   3391\u001b[0m \u001b[1;33m\u001b[0m\u001b[0m\n\u001b[0;32m   3392\u001b[0m     \u001b[1;32mdef\u001b[0m \u001b[0mto_json\u001b[0m\u001b[1;33m(\u001b[0m\u001b[0mself\u001b[0m\u001b[1;33m,\u001b[0m \u001b[1;33m*\u001b[0m\u001b[0margs\u001b[0m\u001b[1;33m,\u001b[0m \u001b[1;33m**\u001b[0m\u001b[0mkwargs\u001b[0m\u001b[1;33m)\u001b[0m\u001b[1;33m:\u001b[0m\u001b[1;33m\u001b[0m\u001b[1;33m\u001b[0m\u001b[0m\n",
      "\u001b[1;32mc:\\Users\\erdos\\anaconda3\\envs\\PythonML\\lib\\site-packages\\plotly\\io\\_renderers.py\u001b[0m in \u001b[0;36mshow\u001b[1;34m(fig, renderer, validate, **kwargs)\u001b[0m\n\u001b[0;32m    395\u001b[0m         \u001b[1;32mif\u001b[0m \u001b[1;32mnot\u001b[0m \u001b[0mnbformat\u001b[0m \u001b[1;32mor\u001b[0m \u001b[0mLooseVersion\u001b[0m\u001b[1;33m(\u001b[0m\u001b[0mnbformat\u001b[0m\u001b[1;33m.\u001b[0m\u001b[0m__version__\u001b[0m\u001b[1;33m)\u001b[0m \u001b[1;33m<\u001b[0m \u001b[0mLooseVersion\u001b[0m\u001b[1;33m(\u001b[0m\u001b[1;34m\"4.2.0\"\u001b[0m\u001b[1;33m)\u001b[0m\u001b[1;33m:\u001b[0m\u001b[1;33m\u001b[0m\u001b[1;33m\u001b[0m\u001b[0m\n\u001b[0;32m    396\u001b[0m             raise ValueError(\n\u001b[1;32m--> 397\u001b[1;33m                 \u001b[1;34m\"Mime type rendering requires nbformat>=4.2.0 but it is not installed\"\u001b[0m\u001b[1;33m\u001b[0m\u001b[1;33m\u001b[0m\u001b[0m\n\u001b[0m\u001b[0;32m    398\u001b[0m             )\n\u001b[0;32m    399\u001b[0m \u001b[1;33m\u001b[0m\u001b[0m\n",
      "\u001b[1;31mValueError\u001b[0m: Mime type rendering requires nbformat>=4.2.0 but it is not installed"
     ]
    }
   ],
   "source": [
    "# 3D  view of the class clusters. \n",
    "fig = px.scatter_3d(\n",
    "    clusters,\n",
    "    x=\"x\",\n",
    "    y=\"y\",\n",
    "    z=\"class\",\n",
    "    color=\"class\",\n",
    "    symbol=\"class\",\n",
    "    width=700,\n",
    ")\n",
    "fig.update_layout(legend=dict(x=0, y=1))\n",
    "fig.show()"
   ]
  },
  {
   "attachments": {},
   "cell_type": "markdown",
   "metadata": {},
   "source": [
    "### Based on the fine-tuned TSNE model and the silhouette score analysis conducted on the elbow_data, I recommend grouping the patients into 5 clusters. "
   ]
  }
 ],
 "metadata": {
  "kernelspec": {
   "display_name": "Python 3 (ipykernel)",
   "language": "python",
   "name": "python3"
  },
  "language_info": {
   "codemirror_mode": {
    "name": "ipython",
    "version": 3
   },
   "file_extension": ".py",
   "mimetype": "text/x-python",
   "name": "python",
   "nbconvert_exporter": "python",
   "pygments_lexer": "ipython3",
   "version": "3.9.12"
  },
  "vscode": {
   "interpreter": {
    "hash": "16fd6db726b79cbf3b87d528332921b610d7d3aef1e46f3518c7f18f49654b4f"
   }
  }
 },
 "nbformat": 4,
 "nbformat_minor": 2
}
